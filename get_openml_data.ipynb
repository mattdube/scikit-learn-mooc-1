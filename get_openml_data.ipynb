{
 "cells": [
  {
   "cell_type": "code",
   "execution_count": 1,
   "id": "48574b5a-bded-4b56-938c-be89526ba1be",
   "metadata": {},
   "outputs": [],
   "source": [
    "import openml\n",
    "import pandas as pd\n",
    "from openml.datasets import edit_dataset, fork_dataset, get_dataset"
   ]
  },
  {
   "cell_type": "markdown",
   "id": "8fb5466c-49ee-45a5-a57e-9a0cc8e361f0",
   "metadata": {},
   "source": [
    "## Get list of OpenML datasets"
   ]
  },
  {
   "cell_type": "code",
   "execution_count": 5,
   "id": "cfc5e7a9-cc32-4d93-8f20-6e0723a5e6b1",
   "metadata": {},
   "outputs": [],
   "source": [
    "openml_df = openml.datasets.list_datasets(output_format=\"dataframe\")"
   ]
  },
  {
   "cell_type": "code",
   "execution_count": 6,
   "id": "4a8e549f-1fa9-4283-b185-6098a07e4256",
   "metadata": {},
   "outputs": [],
   "source": [
    "# show table with some key data properties\n",
    "datalist = datalist[[\"did\", \"name\", \"NumberOfInstances\", \"NumberOfFeatures\", \"NumberOfClasses\"]]"
   ]
  },
  {
   "cell_type": "markdown",
   "id": "90a2ccc7-4bd4-47ec-a68e-9c976fa31b98",
   "metadata": {},
   "source": [
    "### Sample of datasets in datalist"
   ]
  },
  {
   "cell_type": "code",
   "execution_count": 8,
   "id": "18d2965a-0b48-4a0e-906d-b9e23cd35f66",
   "metadata": {},
   "outputs": [
    {
     "data": {
      "text/html": [
       "<div>\n",
       "<style scoped>\n",
       "    .dataframe tbody tr th:only-of-type {\n",
       "        vertical-align: middle;\n",
       "    }\n",
       "\n",
       "    .dataframe tbody tr th {\n",
       "        vertical-align: top;\n",
       "    }\n",
       "\n",
       "    .dataframe thead th {\n",
       "        text-align: right;\n",
       "    }\n",
       "</style>\n",
       "<table border=\"1\" class=\"dataframe\">\n",
       "  <thead>\n",
       "    <tr style=\"text-align: right;\">\n",
       "      <th></th>\n",
       "      <th>did</th>\n",
       "      <th>name</th>\n",
       "      <th>NumberOfInstances</th>\n",
       "      <th>NumberOfFeatures</th>\n",
       "      <th>NumberOfClasses</th>\n",
       "    </tr>\n",
       "  </thead>\n",
       "  <tbody>\n",
       "    <tr>\n",
       "      <th>2</th>\n",
       "      <td>2</td>\n",
       "      <td>anneal</td>\n",
       "      <td>898.0</td>\n",
       "      <td>39.0</td>\n",
       "      <td>5.0</td>\n",
       "    </tr>\n",
       "    <tr>\n",
       "      <th>3</th>\n",
       "      <td>3</td>\n",
       "      <td>kr-vs-kp</td>\n",
       "      <td>3196.0</td>\n",
       "      <td>37.0</td>\n",
       "      <td>2.0</td>\n",
       "    </tr>\n",
       "    <tr>\n",
       "      <th>4</th>\n",
       "      <td>4</td>\n",
       "      <td>labor</td>\n",
       "      <td>57.0</td>\n",
       "      <td>17.0</td>\n",
       "      <td>2.0</td>\n",
       "    </tr>\n",
       "    <tr>\n",
       "      <th>5</th>\n",
       "      <td>5</td>\n",
       "      <td>arrhythmia</td>\n",
       "      <td>452.0</td>\n",
       "      <td>280.0</td>\n",
       "      <td>13.0</td>\n",
       "    </tr>\n",
       "    <tr>\n",
       "      <th>6</th>\n",
       "      <td>6</td>\n",
       "      <td>letter</td>\n",
       "      <td>20000.0</td>\n",
       "      <td>17.0</td>\n",
       "      <td>26.0</td>\n",
       "    </tr>\n",
       "    <tr>\n",
       "      <th>7</th>\n",
       "      <td>7</td>\n",
       "      <td>audiology</td>\n",
       "      <td>226.0</td>\n",
       "      <td>70.0</td>\n",
       "      <td>24.0</td>\n",
       "    </tr>\n",
       "    <tr>\n",
       "      <th>8</th>\n",
       "      <td>8</td>\n",
       "      <td>liver-disorders</td>\n",
       "      <td>345.0</td>\n",
       "      <td>6.0</td>\n",
       "      <td>0.0</td>\n",
       "    </tr>\n",
       "    <tr>\n",
       "      <th>9</th>\n",
       "      <td>9</td>\n",
       "      <td>autos</td>\n",
       "      <td>205.0</td>\n",
       "      <td>26.0</td>\n",
       "      <td>6.0</td>\n",
       "    </tr>\n",
       "    <tr>\n",
       "      <th>10</th>\n",
       "      <td>10</td>\n",
       "      <td>lymph</td>\n",
       "      <td>148.0</td>\n",
       "      <td>19.0</td>\n",
       "      <td>4.0</td>\n",
       "    </tr>\n",
       "    <tr>\n",
       "      <th>11</th>\n",
       "      <td>11</td>\n",
       "      <td>balance-scale</td>\n",
       "      <td>625.0</td>\n",
       "      <td>5.0</td>\n",
       "      <td>3.0</td>\n",
       "    </tr>\n",
       "  </tbody>\n",
       "</table>\n",
       "</div>"
      ],
      "text/plain": [
       "    did             name  NumberOfInstances  NumberOfFeatures  NumberOfClasses\n",
       "2     2           anneal              898.0              39.0              5.0\n",
       "3     3         kr-vs-kp             3196.0              37.0              2.0\n",
       "4     4            labor               57.0              17.0              2.0\n",
       "5     5       arrhythmia              452.0             280.0             13.0\n",
       "6     6           letter            20000.0              17.0             26.0\n",
       "7     7        audiology              226.0              70.0             24.0\n",
       "8     8  liver-disorders              345.0               6.0              0.0\n",
       "9     9            autos              205.0              26.0              6.0\n",
       "10   10            lymph              148.0              19.0              4.0\n",
       "11   11    balance-scale              625.0               5.0              3.0"
      ]
     },
     "execution_count": 8,
     "metadata": {},
     "output_type": "execute_result"
    }
   ],
   "source": [
    "datalist.head(10)"
   ]
  },
  {
   "cell_type": "markdown",
   "id": "7c81bdf9-43a9-457a-bf2d-74db3fa071a0",
   "metadata": {},
   "source": [
    "## Download dataset using Dataset ID (did)\n",
    "This example downloads the adult census dataset with did of 1590.\n",
    "You can find the dataset by filtering the datalist.\n",
    "\n",
    "`datalist.query('name == \"adult\"')`"
   ]
  },
  {
   "cell_type": "code",
   "execution_count": 10,
   "id": "0492898b-afa3-40aa-9742-7565566baac6",
   "metadata": {},
   "outputs": [
    {
     "name": "stdout",
     "output_type": "stream",
     "text": [
      "This is dataset 'adult', the target feature is 'class'\n",
      "URL: https://api.openml.org/data/v1/download/1595261/adult.arff\n",
      "**Author**: Ronny Kohavi and Barry Becker  \n",
      "**Source**: [UCI](https://archive.ics.uci.edu/ml/datasets/Adult) - 1996  \n",
      "**Please cite**: Ron Kohavi, \"Scaling Up the Accuracy of Naive-Bayes Classifiers: a Decision-Tree Hybrid\", Proceedings of the Second International Conference on Knowledge Discovery and Data Mining, 1996  \n",
      "\n",
      "Prediction task is to determine whether a person makes over 50K a year. Extraction was done by Barry Becker from the 1994 Census database. A set of reasonably clean records was\n"
     ]
    }
   ],
   "source": [
    "# This is done based on the dataset ID.\n",
    "dataset = openml.datasets.get_dataset(1590)\n",
    "\n",
    "# Print a summary\n",
    "print(\n",
    "    f\"This is dataset '{dataset.name}', the target feature is \"\n",
    "    f\"'{dataset.default_target_attribute}'\"\n",
    ")\n",
    "print(f\"URL: {dataset.url}\")\n",
    "print(dataset.description[:500])"
   ]
  },
  {
   "cell_type": "markdown",
   "id": "c474ff51-6925-46b0-8f95-d7d96627708e",
   "metadata": {},
   "source": [
    "## Datasets can be downloaded in different formats. Here are two examples:\n",
    "1. download data as an array\n",
    "2. download data as a DataFrame"
   ]
  },
  {
   "cell_type": "code",
   "execution_count": 11,
   "id": "2f6cb05e-ae43-4e44-9b8d-bce2ffa98801",
   "metadata": {},
   "outputs": [
    {
     "name": "stdout",
     "output_type": "stream",
     "text": [
      "    age  workclass    fnlwgt  education  education-num  marital-status  \\\n",
      "0  25.0        0.0  226802.0        2.0            7.0             2.0   \n",
      "1  38.0        0.0   89814.0        3.0            9.0             0.0   \n",
      "2  28.0        4.0  336951.0        5.0           12.0             0.0   \n",
      "3  44.0        0.0  160323.0        1.0           10.0             0.0   \n",
      "4  18.0        NaN  103497.0        1.0           10.0             2.0   \n",
      "5  34.0        0.0  198693.0       12.0            6.0             2.0   \n",
      "6  29.0        NaN  227026.0        3.0            9.0             2.0   \n",
      "7  63.0        1.0  104626.0        4.0           15.0             0.0   \n",
      "8  24.0        0.0  369667.0        1.0           10.0             2.0   \n",
      "9  55.0        0.0  104996.0        8.0            4.0             0.0   \n",
      "\n",
      "   occupation  relationship  race  sex  capital-gain  capital-loss  \\\n",
      "0         7.0           1.0   4.0  1.0           0.0           0.0   \n",
      "1         9.0           2.0   0.0  1.0           0.0           0.0   \n",
      "2        12.0           2.0   0.0  1.0           0.0           0.0   \n",
      "3         7.0           2.0   4.0  1.0        7688.0           0.0   \n",
      "4         NaN           1.0   0.0  0.0           0.0           0.0   \n",
      "5         2.0           3.0   0.0  1.0           0.0           0.0   \n",
      "6         NaN           5.0   4.0  1.0           0.0           0.0   \n",
      "7         5.0           2.0   0.0  1.0        3103.0           0.0   \n",
      "8         2.0           5.0   0.0  0.0           0.0           0.0   \n",
      "9         1.0           2.0   0.0  1.0           0.0           0.0   \n",
      "\n",
      "   hours-per-week  native-country  class  \n",
      "0            40.0             0.0      1  \n",
      "1            50.0             0.0      1  \n",
      "2            40.0             0.0      0  \n",
      "3            40.0             0.0      0  \n",
      "4            30.0             0.0      1  \n",
      "5            30.0             0.0      1  \n",
      "6            40.0             0.0      1  \n",
      "7            32.0             0.0      0  \n",
      "8            40.0             0.0      1  \n",
      "9            10.0             0.0      1  \n"
     ]
    }
   ],
   "source": [
    "# download as array, with features as 'X' and target as 'y'\n",
    "X, y, categorical_indicator, attribute_names = dataset.get_data(\n",
    "    dataset_format=\"array\", target=dataset.default_target_attribute\n",
    ")\n",
    "\n",
    "# convert arrays to full DataFrame with features and target\n",
    "adult = pd.DataFrame(X, columns=attribute_names)\n",
    "adult[\"class\"] = y\n",
    "print(adult[:10])"
   ]
  },
  {
   "cell_type": "code",
   "execution_count": 12,
   "id": "7e139f8c-8491-4900-a220-066615f68f43",
   "metadata": {},
   "outputs": [
    {
     "name": "stdout",
     "output_type": "stream",
     "text": [
      "   age  workclass    fnlwgt     education  education-num      marital-status  \\\n",
      "0   25    Private  226802.0          11th              7       Never-married   \n",
      "1   38    Private   89814.0       HS-grad              9  Married-civ-spouse   \n",
      "2   28  Local-gov  336951.0    Assoc-acdm             12  Married-civ-spouse   \n",
      "3   44    Private  160323.0  Some-college             10  Married-civ-spouse   \n",
      "4   18        NaN  103497.0  Some-college             10       Never-married   \n",
      "\n",
      "          occupation relationship   race     sex  capital-gain  capital-loss  \\\n",
      "0  Machine-op-inspct    Own-child  Black    Male           0.0           0.0   \n",
      "1    Farming-fishing      Husband  White    Male           0.0           0.0   \n",
      "2    Protective-serv      Husband  White    Male           0.0           0.0   \n",
      "3  Machine-op-inspct      Husband  Black    Male        7688.0           0.0   \n",
      "4                NaN    Own-child  White  Female           0.0           0.0   \n",
      "\n",
      "   hours-per-week native-country  \n",
      "0              40  United-States  \n",
      "1              50  United-States  \n",
      "2              40  United-States  \n",
      "3              40  United-States  \n",
      "4              30  United-States  \n",
      "0    <=50K\n",
      "1    <=50K\n",
      "2     >50K\n",
      "3     >50K\n",
      "4    <=50K\n",
      "Name: class, dtype: category\n",
      "Categories (2, object): ['>50K' < '<=50K']\n"
     ]
    }
   ],
   "source": [
    "# Download as dataframe, with features X and target y in different dataframes\n",
    "X, y, categorical_indicator, attribute_names = dataset.get_data(\n",
    "    target=dataset.default_target_attribute, dataset_format=\"dataframe\"\n",
    ")\n",
    "print(X.head())\n",
    "print(y.head())"
   ]
  },
  {
   "cell_type": "code",
   "execution_count": null,
   "id": "a84e1ae7-3b19-4d22-8126-b14ceb75e7db",
   "metadata": {},
   "outputs": [],
   "source": []
  }
 ],
 "metadata": {
  "kernelspec": {
   "display_name": "Python 3 (ipykernel)",
   "language": "python",
   "name": "python3"
  },
  "language_info": {
   "codemirror_mode": {
    "name": "ipython",
    "version": 3
   },
   "file_extension": ".py",
   "mimetype": "text/x-python",
   "name": "python",
   "nbconvert_exporter": "python",
   "pygments_lexer": "ipython3",
   "version": "3.9.12"
  }
 },
 "nbformat": 4,
 "nbformat_minor": 5
}
