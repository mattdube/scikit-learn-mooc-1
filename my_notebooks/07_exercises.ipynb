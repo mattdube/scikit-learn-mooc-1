{
 "cells": [
  {
   "cell_type": "code",
   "execution_count": 1,
   "id": "2ea45ceb-2be2-448f-a696-bb7737a89d59",
   "metadata": {},
   "outputs": [],
   "source": [
    "import pandas as pd\n",
    "adult_census = pd.read_csv(\"../datasets/adult-census.csv\")"
   ]
  },
  {
   "cell_type": "code",
   "execution_count": 3,
   "id": "f2b4e159-50f4-4e3a-a354-6365e48e99ad",
   "metadata": {},
   "outputs": [],
   "source": [
    "target_name = \"class\"\n",
    "target = adult_census[target_name]\n",
    "data = adult_census.drop(columns=[target_name, \"education-num\"])"
   ]
  },
  {
   "cell_type": "code",
   "execution_count": 4,
   "id": "1ff5e9aa-341e-48bf-8e2e-3e1dafaa62ec",
   "metadata": {},
   "outputs": [],
   "source": [
    "from sklearn.compose import make_column_selector as selector"
   ]
  },
  {
   "cell_type": "code",
   "execution_count": 5,
   "id": "2cc5f96d-78ca-4ac0-b109-c92c6ef89896",
   "metadata": {},
   "outputs": [],
   "source": [
    "categorical_columns_selector = selector(dtype_include=object)\n",
    "categorical_columns = categorical_columns_selector(data)\n",
    "data_categorical = data[categorical_columns]"
   ]
  },
  {
   "cell_type": "code",
   "execution_count": 16,
   "id": "995b4fc5-b77a-414c-9a23-1d86d2a9f7c7",
   "metadata": {},
   "outputs": [],
   "source": [
    "from sklearn.pipeline import make_pipeline\n",
    "from sklearn.preprocessing import OrdinalEncoder, OneHotEncoder\n",
    "from sklearn.linear_model import LogisticRegression"
   ]
  },
  {
   "cell_type": "code",
   "execution_count": 10,
   "id": "111f2030-c62f-43af-8bc5-ebbb2536d813",
   "metadata": {},
   "outputs": [],
   "source": [
    "model = make_pipeline(OrdinalEncoder(handle_unknown=\"use_encoded_value\", unknown_value=-1), LogisticRegression(max_iter=500))"
   ]
  },
  {
   "cell_type": "code",
   "execution_count": 11,
   "id": "6ca078ad-c093-4e0a-80ec-d2274434cf54",
   "metadata": {},
   "outputs": [],
   "source": [
    "from sklearn.model_selection import cross_validate"
   ]
  },
  {
   "cell_type": "code",
   "execution_count": 12,
   "id": "bdf7884e-9cf4-405d-a16a-0da5543aa3b0",
   "metadata": {},
   "outputs": [],
   "source": [
    "cv_results = cross_validate(model, data, target, cv=5)"
   ]
  },
  {
   "cell_type": "code",
   "execution_count": 15,
   "id": "6eaac74a-6574-4f29-9ea2-2d81438e515a",
   "metadata": {},
   "outputs": [
    {
     "data": {
      "text/plain": [
       "0.8019328008528539"
      ]
     },
     "execution_count": 15,
     "metadata": {},
     "output_type": "execute_result"
    }
   ],
   "source": [
    "cv_results[\"test_score\"].mean()"
   ]
  },
  {
   "cell_type": "code",
   "execution_count": 18,
   "id": "f872c3b8-9a24-4a97-9368-67846e0bea07",
   "metadata": {},
   "outputs": [],
   "source": [
    "model = make_pipeline(OneHotEncoder(handle_unknown=\"ignore\"), LogisticRegression(max_iter=500))"
   ]
  },
  {
   "cell_type": "code",
   "execution_count": 19,
   "id": "fd66e33a-5a0b-456e-8c19-fcdae50d9305",
   "metadata": {},
   "outputs": [],
   "source": [
    "cv_results = cross_validate(model, data, target, cv=5)"
   ]
  },
  {
   "cell_type": "code",
   "execution_count": 20,
   "id": "8f98ba08-eb2d-4dc7-9ea8-38b0f6d7383b",
   "metadata": {},
   "outputs": [
    {
     "data": {
      "text/plain": [
       "0.8717497723204553"
      ]
     },
     "execution_count": 20,
     "metadata": {},
     "output_type": "execute_result"
    }
   ],
   "source": [
    "cv_results[\"test_score\"].mean()"
   ]
  },
  {
   "cell_type": "code",
   "execution_count": null,
   "id": "f38ac750-516c-468c-8688-ec634074d888",
   "metadata": {},
   "outputs": [],
   "source": []
  }
 ],
 "metadata": {
  "kernelspec": {
   "display_name": "Python 3 (ipykernel)",
   "language": "python",
   "name": "python3"
  },
  "language_info": {
   "codemirror_mode": {
    "name": "ipython",
    "version": 3
   },
   "file_extension": ".py",
   "mimetype": "text/x-python",
   "name": "python",
   "nbconvert_exporter": "python",
   "pygments_lexer": "ipython3",
   "version": "3.10.12"
  }
 },
 "nbformat": 4,
 "nbformat_minor": 5
}
